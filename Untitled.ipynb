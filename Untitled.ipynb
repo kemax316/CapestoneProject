{
 "cells": [
  {
   "cell_type": "markdown",
   "id": "837c3440-e031-4cbe-8ee6-008d03d8dbc8",
   "metadata": {},
   "source": [
    "This notebook is for Capestone Project"
   ]
  },
  {
   "cell_type": "code",
   "execution_count": 5,
   "id": "4a39c4ff-ce12-44aa-885c-7f9de224a53e",
   "metadata": {},
   "outputs": [],
   "source": [
    "import pandas as pd"
   ]
  },
  {
   "cell_type": "code",
   "execution_count": 6,
   "id": "8bb922b3-259b-4502-b20e-a3237cb5858c",
   "metadata": {},
   "outputs": [],
   "source": [
    "import numpy as np"
   ]
  },
  {
   "cell_type": "code",
   "execution_count": 7,
   "id": "adf422b7-62ef-4823-9890-9f703181ab75",
   "metadata": {
    "tags": []
   },
   "outputs": [
    {
     "name": "stdout",
     "output_type": "stream",
     "text": [
      "Hello Capstone Project Course\n"
     ]
    }
   ],
   "source": [
    "print (\"Hello Capstone Project Course\")"
   ]
  },
  {
   "cell_type": "code",
   "execution_count": null,
   "id": "067eb070-afca-4b95-a18a-3f26f25e37ad",
   "metadata": {},
   "outputs": [],
   "source": []
  }
 ],
 "metadata": {
  "kernelspec": {
   "display_name": "Python",
   "language": "python",
   "name": "conda-env-python-py"
  },
  "language_info": {
   "codemirror_mode": {
    "name": "ipython",
    "version": 3
   },
   "file_extension": ".py",
   "mimetype": "text/x-python",
   "name": "python",
   "nbconvert_exporter": "python",
   "pygments_lexer": "ipython3",
   "version": "3.6.13"
  }
 },
 "nbformat": 4,
 "nbformat_minor": 5
}
